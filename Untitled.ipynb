{
 "cells": [
  {
   "cell_type": "code",
   "execution_count": 2,
   "metadata": {},
   "outputs": [
    {
     "name": "stdout",
     "output_type": "stream",
     "text": [
      "[-4.         -3.83673469 -3.67346939 -3.51020408 -3.34693878 -3.18367347\n",
      " -3.02040816 -2.85714286 -2.69387755 -2.53061224 -2.36734694 -2.20408163\n",
      " -2.04081633 -1.87755102 -1.71428571 -1.55102041 -1.3877551  -1.2244898\n",
      " -1.06122449 -0.89795918 -0.73469388 -0.57142857 -0.40816327 -0.24489796\n",
      " -0.08163265  0.08163265  0.24489796  0.40816327  0.57142857  0.73469388\n",
      "  0.89795918  1.06122449  1.2244898   1.3877551   1.55102041  1.71428571\n",
      "  1.87755102  2.04081633  2.20408163  2.36734694  2.53061224  2.69387755\n",
      "  2.85714286  3.02040816  3.18367347  3.34693878  3.51020408  3.67346939\n",
      "  3.83673469  4.        ]\n"
     ]
    }
   ],
   "source": [
    "import numpy as np\n",
    "xs = np.linspace(-4, 4)\n",
    "print(xs)"
   ]
  },
  {
   "cell_type": "code",
   "execution_count": null,
   "metadata": {},
   "outputs": [],
   "source": []
  }
 ],
 "metadata": {
  "kernelspec": {
   "display_name": "Python 3",
   "language": "python",
   "name": "python3"
  },
  "language_info": {
   "codemirror_mode": {
    "name": "ipython",
    "version": 3
   },
   "file_extension": ".py",
   "mimetype": "text/x-python",
   "name": "python",
   "nbconvert_exporter": "python",
   "pygments_lexer": "ipython3",
   "version": "3.7.1"
  }
 },
 "nbformat": 4,
 "nbformat_minor": 2
}
